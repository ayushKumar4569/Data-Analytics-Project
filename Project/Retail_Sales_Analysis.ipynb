import pandas as pd
import sqlite3
import matplotlib.pyplot as plt
import seaborn as sns

# Set up plotting style
plt.style.use('seaborn')
%matplotlib inline

# Create sample data
sales_data = {
    'sale_id': [1, 2, 3, 4, 5],
    'product_id': [101, 102, 101, 103, 102],
    'customer_id': [1001, 1002, 1001, 1003, 1002],
    'sale_date': ['2024-01-01', '2024-01-02', '2024-01-03', '2024-01-04', '2024-01-05'],
    'quantity': [2, 1, 3, 2, 1],
    'unit_price': [50, 100, 50, 75, 100]
}
products_data = {
    'product_id': [101, 102, 103],
    'product_name': ['Laptop', 'Phone', 'Tablet'],
    'category': ['Electronics', 'Electronics', 'Electronics']
}
customers_data = {
    'customer_id': [1001, 1002, 1003],
    'customer_name': ['Alice', 'Bob', 'Charlie'],
    'region': ['North', 'South', 'East']
}

# Convert to DataFrames
sales_df = pd.DataFrame(sales_data)
products_df = pd.DataFrame(products_data)
customers_df = pd.DataFrame(customers_data)

# Data Cleaning
sales_df['sale_date'] = pd.to_datetime(sales_df['sale_date'])
sales_df['total_price'] = sales_df['quantity'] * sales_df['unit_price']

# Create SQLite database
conn = sqlite3.connect(':memory:')
sales_df.to_sql('sales', conn, index=False, if_exists='replace')
products_df.to_sql('products', conn, index=False, if_exists='replace')
customers_df.to_sql('customers', conn, index=False, if_exists='replace')

# SQL Query 1: Total sales by product
query1 = '''
SELECT p.product_name, SUM(s.quantity * s.unit_price) as total_sales
FROM sales s
JOIN products p ON s.product_id = p.product_id
GROUP BY p.product_name
ORDER BY total_sales DESC;
'''
product_sales = pd.read_sql_query(query1, conn)
print("Total Sales by Product:")
print(product_sales)

# SQL Query 2: Sales by region
query2 = '''
SELECT c.region, SUM(s.quantity * s.unit_price) as total_sales
FROM sales s
JOIN customers c ON s.customer_id = c.customer_id
GROUP BY c.region
ORDER BY total_sales DESC;
'''
region_sales = pd.read_sql_query(query2, conn)
print("\nSales by Region:")
print(region_sales)

# Visualization 1: Bar plot of sales by product
plt.figure(figsize=(10, 6))
sns.barplot(x='total_sales', y='product_name', data=product_sales)
plt.title('Total Sales by Product')
plt.xlabel('Total Sales ($)')
plt.ylabel('Product')
plt.tight_layout()
plt.savefig('sales_by_product.png')
plt.show()

# Visualization 2: Pie chart of sales by region
plt.figure(figsize=(8, 8))
plt.pie(region_sales['total_sales'], labels=region_sales['region'], autopct='%1.1f%%')
plt.title('Sales Distribution by Region')
plt.savefig('sales_by_region.png')
plt.show()

# Export data for Excel Dashboard
sales_df.to_csv('sales_data.csv', index=False)
product_sales.to_csv('product_sales.csv', index=False)
region_sales.to_csv('region_sales.csv', index=False)

# Close connection
conn.close()
